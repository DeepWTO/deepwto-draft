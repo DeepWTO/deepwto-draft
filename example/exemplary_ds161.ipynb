{
 "cells": [
  {
   "cell_type": "code",
   "execution_count": 1,
   "metadata": {},
   "outputs": [],
   "source": [
    "import sys"
   ]
  },
  {
   "cell_type": "code",
   "execution_count": 2,
   "metadata": {},
   "outputs": [
    {
     "name": "stdout",
     "output_type": "stream",
     "text": [
      "['/Users/zachary/projects/DeepWTO/example', '/Users/zachary/anaconda3/envs/DeepWTO/lib/python37.zip', '/Users/zachary/anaconda3/envs/DeepWTO/lib/python3.7', '/Users/zachary/anaconda3/envs/DeepWTO/lib/python3.7/lib-dynload', '', '/Users/zachary/anaconda3/envs/DeepWTO/lib/python3.7/site-packages', '/Users/zachary/anaconda3/envs/DeepWTO/lib/python3.7/site-packages/IPython/extensions', '/Users/zachary/.ipython']\n"
     ]
    }
   ],
   "source": [
    "print(sys.path)"
   ]
  },
  {
   "cell_type": "code",
   "execution_count": 3,
   "metadata": {},
   "outputs": [],
   "source": [
    "sys.path.append('/Users/zachary/projects/DeepWTO')"
   ]
  },
  {
   "cell_type": "code",
   "execution_count": 4,
   "metadata": {},
   "outputs": [],
   "source": [
    "from dataset.download.results.unpack_pickle import get_urls, filter_eng"
   ]
  },
  {
   "cell_type": "code",
   "execution_count": 5,
   "metadata": {},
   "outputs": [
    {
     "name": "stdout",
     "output_type": "stream",
     "text": [
      "/Users/zachary/projects/DeepWTO/dataset/download/results\n"
     ]
    }
   ],
   "source": [
    "case_numb = 161\n",
    "urls = get_urls(161)"
   ]
  },
  {
   "cell_type": "code",
   "execution_count": 6,
   "metadata": {},
   "outputs": [
    {
     "name": "stdout",
     "output_type": "stream",
     "text": [
      "English version of pdfs: \n",
      "https://docs.wto.org/dol2fe/Pages/FE_Search/DDFDocuments/28643/Q/WT/DS/169-12.pdf\n",
      "https://docs.wto.org/dol2fe/Pages/FE_Search/DDFDocuments/66170/Q/WT/DS/169-11.pdf\n",
      "https://docs.wto.org/dol2fe/Pages/FE_Search/DDFDocuments/107599/Q/WT/DS/169-10.pdf\n",
      "https://docs.wto.org/dol2fe/Pages/FE_Search/DDFDocuments/12458/Q/WT/DS/169ABR.pdf\n",
      "https://docs.wto.org/dol2fe/Pages/FE_Search/DDFDocuments/13372/Q/WT/DS/169-9.pdf\n",
      "https://docs.wto.org/dol2fe/Pages/FE_Search/DDFDocuments/22203/Q/WT/DS/169-8.pdf\n",
      "https://docs.wto.org/dol2fe/Pages/FE_Search/DDFDocuments/110283/Q/WT/DS/161R.pdf\n",
      "https://docs.wto.org/dol2fe/Pages/FE_Search/DDFDocuments/19005/Q/WT/DS/161-7.pdf\n",
      "https://docs.wto.org/dol2fe/Pages/FE_Search/DDFDocuments/7858/Q/WT/DS/161-6.pdf\n",
      "https://docs.wto.org/dol2fe/Pages/FE_Search/DDFDocuments/46659/Q/WT/DS/161-5.pdf\n",
      "https://docs.wto.org/dol2fe/Pages/FE_Search/DDFDocuments/35383/Q/WT/DS/161-4.pdf\n",
      "https://docs.wto.org/dol2fe/Pages/FE_Search/DDFDocuments/35365/Q/WT/DS/161-2.pdf\n",
      "https://docs.wto.org/dol2fe/Pages/FE_Search/DDFDocuments/35368/Q/WT/DS/161-3.pdf\n",
      "https://docs.wto.org/dol2fe/Pages/FE_Search/DDFDocuments/25382/Q/G/L/292.pdf\n"
     ]
    }
   ],
   "source": [
    "eng_urls = filter_eng(urls)"
   ]
  },
  {
   "cell_type": "markdown",
   "metadata": {},
   "source": [
    "# WTO process  \n",
    "![consultation](ds_process/assets/flowchart.png)"
   ]
  },
  {
   "cell_type": "markdown",
   "metadata": {},
   "source": [
    "# Consultation \n",
    "- *give the parties an opportunity to discuss the matter and to find a satisfactory solution without resorting to litigation (Article 4.5 of the DSU).*\n",
    "- *Contains information about government measure at issue*\n",
    "\n",
    "![consultation](ds_process/assets/consultation_DS161.png)"
   ]
  },
  {
   "cell_type": "code",
   "execution_count": 7,
   "metadata": {},
   "outputs": [],
   "source": [
    "from utils.pdf import read_pdf"
   ]
  },
  {
   "cell_type": "code",
   "execution_count": 8,
   "metadata": {},
   "outputs": [],
   "source": [
    "consultation = \"./ds_process/assets/consultation_DS161.pdf\""
   ]
  },
  {
   "cell_type": "code",
   "execution_count": 9,
   "metadata": {},
   "outputs": [
    {
     "name": "stderr",
     "output_type": "stream",
     "text": [
      "PdfReadWarning: Xref table not zero-indexed. ID numbers for objects will be corrected. [pdf.py:1736]\n"
     ]
    }
   ],
   "source": [
    "txt = read_pdf(consultation)"
   ]
  },
  {
   "cell_type": "code",
   "execution_count": 10,
   "metadata": {},
   "outputs": [
    {
     "data": {
      "text/plain": [
       "'. /.WORLD \\nTRADE\\nORGANIZATION\\nWT/DS161/1\\nG/L/292\\nG/AG/GEN/32\\nG/LIC/D/28\\n4 February 1999\\n(99-0428)\\nOriginal:  English\\nKOREA Œ MEASURES AFFECTING IMPORTS OF FRESH,\\nCHILLED AND FROZEN BEEF\\nRequest for Consultations by the United States\\nThe following communication, dated 1 February 1999, from the Permanent Mission of the\\nUnited States to the Permanent Mission of Korea and the Chairman of the Dispute Settlement Body, is\\ncirculated pursuant to Article 4.4 of the DSU.\\n_______________\\nMy authorities have instructed me to reques\\nt consultations with the Republic of Korea\\npursuant to Article 4 of the Understanding on Rules and Procedures Governing the Settlement of\\nDisputes (DSU), Article XXII of the General Agreement on Tariffs and Trade 1994 (GATT 1994),\\nArticle 19 of the Agreement on Agriculture, and Article 6 of the Agreement on Import Licensing\\n\\nProcedures, with respect to the quantitative restrictions imposed by Korea on imports of fresh, chilled,\\nand frozen beef and a regulatory scheme that discriminates against imported beef by, \\ninter alia\\n,confining sales of imported beef to specialized stores, limiting the manner of its display, and\\notherwise constraining the opportunities for the sale of imported beef.  The requested consultations\\nalso seek to address the imposition of a markup on sales of imported beef, the limitation of import\\nauthority to certain so-called \"super-groups\" and the Livestock Producers Marketing Organization\\n(\"LPMO\"), and the provision of domestic support to \\nthe cattle industry in Korea in amounts which\\ncause Korea to exceed Korea\\'s aggregate measure of support as reflected in Korea\\'s WTO schedule.\\nThe measures which restrict beef imports and the distribution and sale of imported beef\\nwithin Korea are the laws and regulations govern\\ning livestock trade in Korea, both domestic and\\nimported, and include the regulations covering sales of imported beef, the operational guidelines for\\n\\nthe Simultaneous Buy/Sell (SBS) system, and the guidelines concerning the registration and operation\\nof Specialized Imported Beef Stores.  Additional measures are described in Korea\\'s Livestock Act and\\nthe laws, decrees, and regulations relating to imposition of the markup and the subsidization of the\\ndomestic livestock industry, including the Livestock Industry Development Fund, the Livestock\\nProduct Processing and Treatment Act, the Customs Act, the International Trade Law, and the\\n\\nLivestock Farming Act.\\nThrough its restrictions on the importation, sale, display and distribution of imported beef and\\nthe imposition of a markup on imported beef, Korea appears to be imposing restrictions on market\\naccess that are inconsistent with its WTO obligations.  The restrictions on marketing and retail\\n\\ndistribution pertain only to imported beef and, thus, also appear to deny national treatment to beef\\nimports.  Finally, the provision by Korea of domestic subsidies to its cattle industry appears to have\\ncaused Korea to exceed the aggregate measure of support set forth in section IV of Korea\\'s WTO\\nschedule in contravention of Korea\\'s obligations under the Agreement on Agriculture.\\nWT/DS161/1, G/L/292,\\nG/AG/GEN/32, G/LIC/D/28\\nPage 2\\nAll of these measures appear to be inconsistent with the obligations of Korea under the\\nGeneral Agreement on Tariffs and Trade 1994, the Agreement on Agriculture, and the Agreement on\\nImport Licensing Procedures.  The identified measures appear to be inconsistent with the following\\nspecific provisions of those agreements.\\n1.General Agreement on Tariffs and Trade 1994, Articles II, III, XI;   and XVII;\\n\\n2.Agreement on Agriculture, Articles 3, 4, 6 and 7;  and\\n\\n3.Agreement on Import Licensing Procedures, Articles 1, 3.\\nWe look forward to receiving your reply to the present request and to fixing a mutually\\nconvenient date for consultations.\\n__________\\n'"
      ]
     },
     "execution_count": 10,
     "metadata": {},
     "output_type": "execute_result"
    }
   ],
   "source": [
    "txt"
   ]
  },
  {
   "cell_type": "markdown",
   "metadata": {},
   "source": [
    "# What else describes Gov measure?\n",
    "\n",
    "- *161-5 Request for the Establishment of a Panel by the United States*\n"
   ]
  },
  {
   "cell_type": "code",
   "execution_count": null,
   "metadata": {},
   "outputs": [],
   "source": []
  },
  {
   "cell_type": "code",
   "execution_count": null,
   "metadata": {},
   "outputs": [],
   "source": [
    "# [1] : Consultation from US [*]\n",
    "# [2,3,4] : Request to Join Consultations : a substantial trade interest in the matter that is the subject\n",
    "# of the requested consultations | Canada/New Zealand/ \n",
    "# [5] Request for the Establishment of a Panel by the United States [*]\n",
    "# [6,7] Establishment of Panel (Procedural Information\n",
    "# [R] Report of Panel \n",
    "# [8,9,10] Notification of an Appeal\n",
    "# [ABR] AB report\n",
    "# [11] Appeal to Read Panel/AB report \n",
    "# [12] Implementation Appeal"
   ]
  },
  {
   "cell_type": "code",
   "execution_count": null,
   "metadata": {},
   "outputs": [],
   "source": []
  },
  {
   "cell_type": "code",
   "execution_count": null,
   "metadata": {},
   "outputs": [],
   "source": []
  },
  {
   "cell_type": "code",
   "execution_count": null,
   "metadata": {},
   "outputs": [],
   "source": []
  },
  {
   "cell_type": "code",
   "execution_count": null,
   "metadata": {},
   "outputs": [],
   "source": []
  },
  {
   "cell_type": "code",
   "execution_count": null,
   "metadata": {},
   "outputs": [],
   "source": []
  },
  {
   "cell_type": "code",
   "execution_count": null,
   "metadata": {},
   "outputs": [],
   "source": []
  },
  {
   "cell_type": "code",
   "execution_count": null,
   "metadata": {},
   "outputs": [],
   "source": []
  },
  {
   "cell_type": "code",
   "execution_count": 13,
   "metadata": {},
   "outputs": [
    {
     "ename": "AttributeError",
     "evalue": "'str' object has no attribute 'getPage'",
     "traceback": [
      "\u001b[0;31m---------------------------------------------------------------------------\u001b[0m",
      "\u001b[0;31mAttributeError\u001b[0m                            Traceback (most recent call last)",
      "\u001b[0;32m<ipython-input-13-6e98a4d844e6>\u001b[0m in \u001b[0;36m<module>\u001b[0;34m\u001b[0m\n\u001b[0;32m----> 1\u001b[0;31m \u001b[0mpage0\u001b[0m \u001b[0;34m=\u001b[0m \u001b[0mpdf\u001b[0m\u001b[0;34m.\u001b[0m\u001b[0mgetPage\u001b[0m\u001b[0;34m(\u001b[0m\u001b[0;36m0\u001b[0m\u001b[0;34m)\u001b[0m\u001b[0;34m\u001b[0m\u001b[0;34m\u001b[0m\u001b[0m\n\u001b[0m",
      "\u001b[0;31mAttributeError\u001b[0m: 'str' object has no attribute 'getPage'"
     ],
     "output_type": "error"
    }
   ],
   "source": [
    "page0 = pdf.getPage(0)"
   ]
  },
  {
   "cell_type": "code",
   "execution_count": 22,
   "metadata": {},
   "outputs": [
    {
     "data": {
      "text/plain": [
       "'. /.WORLD \\nTRADE\\nORGANIZATION\\nWT/DS161/1\\nG/L/292\\nG/AG/GEN/32\\nG/LIC/D/28\\n4 February 1999\\n(99-0428)\\nOriginal:  English\\nKOREA Œ MEASURES AFFECTING IMPORTS OF FRESH,\\nCHILLED AND FROZEN BEEF\\nRequest for Consultations by the United States\\nThe following communication, dated 1 February 1999, from the Permanent Mission of the\\nUnited States to the Permanent Mission of Korea and the Chairman of the Dispute Settlement Body, is\\ncirculated pursuant to Article 4.4 of the DSU.\\n_______________\\nMy authorities have instructed me to reques\\nt consultations with the Republic of Korea\\npursuant to Article 4 of the Understanding on Rules and Procedures Governing the Settlement of\\nDisputes (DSU), Article XXII of the General Agreement on Tariffs and Trade 1994 (GATT 1994),\\nArticle 19 of the Agreement on Agriculture, and Article 6 of the Agreement on Import Licensing\\n\\nProcedures, with respect to the quantitative restrictions imposed by Korea on imports of fresh, chilled,\\nand frozen beef and a regulatory scheme that discriminates against imported beef by, \\ninter alia\\n,confining sales of imported beef to specialized stores, limiting the manner of its display, and\\notherwise constraining the opportunities for the sale of imported beef.  The requested consultations\\nalso seek to address the imposition of a markup on sales of imported beef, the limitation of import\\nauthority to certain so-called \"super-groups\" and the Livestock Producers Marketing Organization\\n(\"LPMO\"), and the provision of domestic support to \\nthe cattle industry in Korea in amounts which\\ncause Korea to exceed Korea\\'s aggregate measure of support as reflected in Korea\\'s WTO schedule.\\nThe measures which restrict beef imports and the distribution and sale of imported beef\\nwithin Korea are the laws and regulations govern\\ning livestock trade in Korea, both domestic and\\nimported, and include the regulations covering sales of imported beef, the operational guidelines for\\n\\nthe Simultaneous Buy/Sell (SBS) system, and the guidelines concerning the registration and operation\\nof Specialized Imported Beef Stores.  Additional measures are described in Korea\\'s Livestock Act and\\nthe laws, decrees, and regulations relating to imposition of the markup and the subsidization of the\\ndomestic livestock industry, including the Livestock Industry Development Fund, the Livestock\\nProduct Processing and Treatment Act, the Customs Act, the International Trade Law, and the\\n\\nLivestock Farming Act.\\nThrough its restrictions on the importation, sale, display and distribution of imported beef and\\nthe imposition of a markup on imported beef, Korea appears to be imposing restrictions on market\\naccess that are inconsistent with its WTO obligations.  The restrictions on marketing and retail\\n\\ndistribution pertain only to imported beef and, thus, also appear to deny national treatment to beef\\nimports.  Finally, the provision by Korea of domestic subsidies to its cattle industry appears to have\\ncaused Korea to exceed the aggregate measure of support set forth in section IV of Korea\\'s WTO\\nschedule in contravention of Korea\\'s obligations under the Agreement on Agriculture.\\n'"
      ]
     },
     "execution_count": 22,
     "metadata": {},
     "output_type": "execute_result"
    }
   ],
   "source": [
    "page0.extractText()"
   ]
  },
  {
   "cell_type": "code",
   "execution_count": 15,
   "metadata": {},
   "outputs": [
    {
     "data": {
      "text/plain": [
       "{'/Contents': {'/Filter': '/FlateDecode'},\n",
       " '/Type': '/Page',\n",
       " '/Parent': {'/Count': 2,\n",
       "  '/Kids': [IndirectObject(12, 0), IndirectObject(1, 0)],\n",
       "  '/Type': '/Pages'},\n",
       " '/Rotate': 0,\n",
       " '/MediaBox': [0, 0, 595, 842],\n",
       " '/CropBox': [0, 0, 595, 842],\n",
       " '/Resources': {'/ColorSpace': {'/Cs6': ['/ICCBased', IndirectObject(29, 0)]},\n",
       "  '/Font': {'/TT2': {'/Type': '/Font',\n",
       "    '/Encoding': '/WinAnsiEncoding',\n",
       "    '/BaseFont': '/TimesNewRoman',\n",
       "    '/FirstChar': 32,\n",
       "    '/LastChar': 122,\n",
       "    '/Subtype': '/TrueType',\n",
       "    '/FontDescriptor': {'/Type': '/FontDescriptor',\n",
       "     '/FontBBox': [-167, -307, 1009, 1007],\n",
       "     '/FontName': '/TimesNewRoman',\n",
       "     '/Flags': 34,\n",
       "     '/StemV': 82,\n",
       "     '/CapHeight': 656,\n",
       "     '/XHeight': 0,\n",
       "     '/Ascent': 891,\n",
       "     '/Descent': -216,\n",
       "     '/ItalicAngle': 0,\n",
       "     '/FontFamily': 'Times New Roman',\n",
       "     '/FontStretch': '/Normal',\n",
       "     '/FontWeight': 400},\n",
       "    '/Widths': [250,\n",
       "     0,\n",
       "     408,\n",
       "     0,\n",
       "     0,\n",
       "     0,\n",
       "     0,\n",
       "     180,\n",
       "     333,\n",
       "     333,\n",
       "     0,\n",
       "     0,\n",
       "     250,\n",
       "     333,\n",
       "     250,\n",
       "     278,\n",
       "     500,\n",
       "     500,\n",
       "     500,\n",
       "     500,\n",
       "     500,\n",
       "     0,\n",
       "     500,\n",
       "     500,\n",
       "     500,\n",
       "     500,\n",
       "     278,\n",
       "     278,\n",
       "     0,\n",
       "     0,\n",
       "     0,\n",
       "     0,\n",
       "     0,\n",
       "     722,\n",
       "     667,\n",
       "     667,\n",
       "     722,\n",
       "     611,\n",
       "     556,\n",
       "     722,\n",
       "     0,\n",
       "     333,\n",
       "     0,\n",
       "     722,\n",
       "     611,\n",
       "     889,\n",
       "     722,\n",
       "     722,\n",
       "     556,\n",
       "     0,\n",
       "     667,\n",
       "     556,\n",
       "     611,\n",
       "     722,\n",
       "     722,\n",
       "     944,\n",
       "     722,\n",
       "     0,\n",
       "     0,\n",
       "     0,\n",
       "     0,\n",
       "     0,\n",
       "     0,\n",
       "     0,\n",
       "     0,\n",
       "     444,\n",
       "     500,\n",
       "     444,\n",
       "     500,\n",
       "     444,\n",
       "     333,\n",
       "     500,\n",
       "     500,\n",
       "     278,\n",
       "     0,\n",
       "     500,\n",
       "     278,\n",
       "     778,\n",
       "     500,\n",
       "     500,\n",
       "     500,\n",
       "     500,\n",
       "     333,\n",
       "     389,\n",
       "     278,\n",
       "     500,\n",
       "     500,\n",
       "     722,\n",
       "     500,\n",
       "     500,\n",
       "     444]},\n",
       "   '/TT4': {'/Type': '/Font',\n",
       "    '/Encoding': '/WinAnsiEncoding',\n",
       "    '/BaseFont': '/TimesNewRoman,Bold',\n",
       "    '/FirstChar': 32,\n",
       "    '/LastChar': 150,\n",
       "    '/Subtype': '/TrueType',\n",
       "    '/FontDescriptor': {'/Type': '/FontDescriptor',\n",
       "     '/FontBBox': [-184, -307, 1089, 1026],\n",
       "     '/FontName': '/TimesNewRoman,Bold',\n",
       "     '/Flags': 34,\n",
       "     '/StemV': 160,\n",
       "     '/CapHeight': 656,\n",
       "     '/Ascent': 891,\n",
       "     '/Descent': -216,\n",
       "     '/ItalicAngle': 0,\n",
       "     '/FontFamily': 'Times New Roman',\n",
       "     '/FontStretch': '/Normal',\n",
       "     '/FontWeight': 700},\n",
       "    '/Widths': [250,\n",
       "     0,\n",
       "     0,\n",
       "     0,\n",
       "     0,\n",
       "     0,\n",
       "     0,\n",
       "     0,\n",
       "     0,\n",
       "     0,\n",
       "     0,\n",
       "     0,\n",
       "     250,\n",
       "     0,\n",
       "     0,\n",
       "     278,\n",
       "     0,\n",
       "     500,\n",
       "     500,\n",
       "     500,\n",
       "     0,\n",
       "     0,\n",
       "     500,\n",
       "     0,\n",
       "     500,\n",
       "     500,\n",
       "     0,\n",
       "     0,\n",
       "     0,\n",
       "     0,\n",
       "     0,\n",
       "     0,\n",
       "     0,\n",
       "     722,\n",
       "     667,\n",
       "     722,\n",
       "     722,\n",
       "     667,\n",
       "     611,\n",
       "     778,\n",
       "     778,\n",
       "     389,\n",
       "     0,\n",
       "     778,\n",
       "     667,\n",
       "     944,\n",
       "     722,\n",
       "     778,\n",
       "     611,\n",
       "     0,\n",
       "     722,\n",
       "     556,\n",
       "     667,\n",
       "     722,\n",
       "     0,\n",
       "     1000,\n",
       "     0,\n",
       "     0,\n",
       "     667,\n",
       "     0,\n",
       "     0,\n",
       "     0,\n",
       "     0,\n",
       "     500,\n",
       "     0,\n",
       "     0,\n",
       "     0,\n",
       "     0,\n",
       "     0,\n",
       "     0,\n",
       "     0,\n",
       "     0,\n",
       "     0,\n",
       "     0,\n",
       "     0,\n",
       "     0,\n",
       "     0,\n",
       "     0,\n",
       "     0,\n",
       "     0,\n",
       "     0,\n",
       "     0,\n",
       "     0,\n",
       "     0,\n",
       "     0,\n",
       "     0,\n",
       "     0,\n",
       "     0,\n",
       "     0,\n",
       "     0,\n",
       "     0,\n",
       "     0,\n",
       "     0,\n",
       "     0,\n",
       "     0,\n",
       "     0,\n",
       "     0,\n",
       "     0,\n",
       "     0,\n",
       "     0,\n",
       "     0,\n",
       "     0,\n",
       "     0,\n",
       "     0,\n",
       "     0,\n",
       "     0,\n",
       "     0,\n",
       "     0,\n",
       "     0,\n",
       "     0,\n",
       "     0,\n",
       "     0,\n",
       "     0,\n",
       "     0,\n",
       "     0,\n",
       "     0,\n",
       "     0,\n",
       "     0,\n",
       "     500]}},\n",
       "  '/ProcSet': ['/PDF', '/Text'],\n",
       "  '/ExtGState': {'/GS1': {'/Type': '/ExtGState',\n",
       "    '/SA': <PyPDF2.generic.BooleanObject at 0x1109c4e80>,\n",
       "    '/OP': <PyPDF2.generic.BooleanObject at 0x1109c4fd0>,\n",
       "    '/SM': 0.02,\n",
       "    '/op': <PyPDF2.generic.BooleanObject at 0x1113e8eb8>,\n",
       "    '/OPM': 1}}}}"
      ]
     },
     "execution_count": 15,
     "metadata": {},
     "output_type": "execute_result"
    }
   ],
   "source": [
    "pdf.getPage(1)"
   ]
  },
  {
   "cell_type": "code",
   "execution_count": null,
   "metadata": {},
   "outputs": [],
   "source": []
  }
 ],
 "metadata": {
  "kernelspec": {
   "display_name": "DeepWTO",
   "language": "python",
   "name": "deepwto"
  },
  "language_info": {
   "codemirror_mode": {
    "name": "ipython",
    "version": 3
   },
   "file_extension": ".py",
   "mimetype": "text/x-python",
   "name": "python",
   "nbconvert_exporter": "python",
   "pygments_lexer": "ipython3",
   "version": "3.7.2"
  }
 },
 "nbformat": 4,
 "nbformat_minor": 1
}
