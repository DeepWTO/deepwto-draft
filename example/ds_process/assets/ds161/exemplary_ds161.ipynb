{
 "cells": [
  {
   "cell_type": "code",
   "execution_count": 1,
   "metadata": {},
   "outputs": [],
   "source": [
    "import sys"
   ]
  },
  {
   "cell_type": "code",
   "execution_count": 2,
   "metadata": {},
   "outputs": [],
   "source": [
    "sys.path.append('/Users/zachary/projects/DeepWTO')"
   ]
  },
  {
   "cell_type": "code",
   "execution_count": 3,
   "metadata": {},
   "outputs": [],
   "source": [
    "from dataset.download.results.unpack_pickle import get_urls, filter_eng"
   ]
  },
  {
   "cell_type": "code",
   "execution_count": 4,
   "metadata": {},
   "outputs": [
    {
     "name": "stdout",
     "output_type": "stream",
     "text": [
      "/Users/zachary/projects/DeepWTO/dataset/download/results\n"
     ]
    }
   ],
   "source": [
    "case_numb = 161\n",
    "urls = get_urls(161)"
   ]
  },
  {
   "cell_type": "code",
   "execution_count": 5,
   "metadata": {},
   "outputs": [
    {
     "name": "stdout",
     "output_type": "stream",
     "text": [
      "English version of pdfs: \n",
      "https://docs.wto.org/dol2fe/Pages/FE_Search/DDFDocuments/28643/Q/WT/DS/169-12.pdf\n",
      "https://docs.wto.org/dol2fe/Pages/FE_Search/DDFDocuments/66170/Q/WT/DS/169-11.pdf\n",
      "https://docs.wto.org/dol2fe/Pages/FE_Search/DDFDocuments/107599/Q/WT/DS/169-10.pdf\n",
      "https://docs.wto.org/dol2fe/Pages/FE_Search/DDFDocuments/12458/Q/WT/DS/169ABR.pdf\n",
      "https://docs.wto.org/dol2fe/Pages/FE_Search/DDFDocuments/13372/Q/WT/DS/169-9.pdf\n",
      "https://docs.wto.org/dol2fe/Pages/FE_Search/DDFDocuments/22203/Q/WT/DS/169-8.pdf\n",
      "https://docs.wto.org/dol2fe/Pages/FE_Search/DDFDocuments/110283/Q/WT/DS/161R.pdf\n",
      "https://docs.wto.org/dol2fe/Pages/FE_Search/DDFDocuments/19005/Q/WT/DS/161-7.pdf\n",
      "https://docs.wto.org/dol2fe/Pages/FE_Search/DDFDocuments/7858/Q/WT/DS/161-6.pdf\n",
      "https://docs.wto.org/dol2fe/Pages/FE_Search/DDFDocuments/46659/Q/WT/DS/161-5.pdf\n",
      "https://docs.wto.org/dol2fe/Pages/FE_Search/DDFDocuments/35383/Q/WT/DS/161-4.pdf\n",
      "https://docs.wto.org/dol2fe/Pages/FE_Search/DDFDocuments/35365/Q/WT/DS/161-2.pdf\n",
      "https://docs.wto.org/dol2fe/Pages/FE_Search/DDFDocuments/35368/Q/WT/DS/161-3.pdf\n",
      "https://docs.wto.org/dol2fe/Pages/FE_Search/DDFDocuments/25382/Q/G/L/292.pdf\n"
     ]
    }
   ],
   "source": [
    "eng_urls = filter_eng(urls)"
   ]
  },
  {
   "cell_type": "code",
   "execution_count": 6,
   "metadata": {},
   "outputs": [],
   "source": [
    "# On Consultation \n",
    "# {url: https://docs.wto.org/dol2fe/Pages/FE_Search/DDFDocuments/25382/Q/G/L/292.pdf}"
   ]
  },
  {
   "cell_type": "code",
   "execution_count": null,
   "metadata": {},
   "outputs": [],
   "source": []
  }
 ],
 "metadata": {
  "kernelspec": {
   "display_name": "DeepWTO",
   "language": "python",
   "name": "deepwto"
  },
  "language_info": {
   "codemirror_mode": {
    "name": "ipython",
    "version": 3
   },
   "file_extension": ".py",
   "mimetype": "text/x-python",
   "name": "python",
   "nbconvert_exporter": "python",
   "pygments_lexer": "ipython3",
   "version": "3.7.2"
  }
 },
 "nbformat": 4,
 "nbformat_minor": 1
}
