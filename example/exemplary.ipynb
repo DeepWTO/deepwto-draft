{
 "cells": [
  {
   "cell_type": "code",
   "execution_count": 2,
   "metadata": {
    "collapsed": true
   },
   "outputs": [],
   "source": [
    "from dataset.download.pickles.unpack_pickle import get_urls, filter_eng"
   ]
  },
  {
   "cell_type": "code",
   "execution_count": 8,
   "metadata": {
    "collapsed": false
   },
   "outputs": [
    {
     "name": "stdout",
     "output_type": "stream",
     "text": [
      "/Users/zachary/projects/DeepWTO/dataset/download/pickles\nevery pdfs: \nhttps://docs.wto.org/dol2fe/Pages/FE_Search/DDFDocuments/28643/Q/WT/DS/169-12.pdf\nhttps://docs.wto.org/dol2fe/Pages/FE_Search/DDFDocuments/28643/R/WT/DS/169-12.pdf\nhttps://docs.wto.org/dol2fe/Pages/FE_Search/DDFDocuments/28643/S/WT/DS/169-12.pdf\nhttps://docs.wto.org/dol2fe/Pages/FE_Search/DDFDocuments/66170/Q/WT/DS/169-11.pdf\nhttps://docs.wto.org/dol2fe/Pages/FE_Search/DDFDocuments/66170/R/WT/DS/169-11.pdf\nhttps://docs.wto.org/dol2fe/Pages/FE_Search/DDFDocuments/66170/S/WT/DS/169-11.pdf\nhttps://docs.wto.org/dol2fe/Pages/FE_Search/DDFDocuments/107599/Q/WT/DS/169-10.pdf\nhttps://docs.wto.org/dol2fe/Pages/FE_Search/DDFDocuments/107599/R/WT/DS/169-10.pdf\nhttps://docs.wto.org/dol2fe/Pages/FE_Search/DDFDocuments/107599/S/WT/DS/169-10.pdf\nhttps://docs.wto.org/dol2fe/Pages/FE_Search/DDFDocuments/12458/Q/WT/DS/169ABR.pdf\nhttps://docs.wto.org/dol2fe/Pages/FE_Search/DDFDocuments/12458/R/WT/DS/169ABR.pdf\nhttps://docs.wto.org/dol2fe/Pages/FE_Search/DDFDocuments/12458/S/WT/DS/169ABR.pdf\nhttps://docs.wto.org/dol2fe/Pages/FE_Search/DDFDocuments/13372/Q/WT/DS/169-9.pdf\nhttps://docs.wto.org/dol2fe/Pages/FE_Search/DDFDocuments/13372/R/WT/DS/169-9.pdf\nhttps://docs.wto.org/dol2fe/Pages/FE_Search/DDFDocuments/13372/S/WT/DS/169-9.pdf\nhttps://docs.wto.org/dol2fe/Pages/FE_Search/DDFDocuments/22203/Q/WT/DS/169-8.pdf\nhttps://docs.wto.org/dol2fe/Pages/FE_Search/DDFDocuments/22203/R/WT/DS/169-8.pdf\nhttps://docs.wto.org/dol2fe/Pages/FE_Search/DDFDocuments/22203/S/WT/DS/169-8.pdf\nhttps://docs.wto.org/dol2fe/Pages/FE_Search/DDFDocuments/110283/Q/WT/DS/161R.pdf\nhttps://docs.wto.org/dol2fe/Pages/FE_Search/DDFDocuments/110283/R/WT/DS/161R.pdf\nhttps://docs.wto.org/dol2fe/Pages/FE_Search/DDFDocuments/110283/S/WT/DS/161R.pdf\nhttps://docs.wto.org/dol2fe/Pages/FE_Search/DDFDocuments/19005/Q/WT/DS/161-7.pdf\nhttps://docs.wto.org/dol2fe/Pages/FE_Search/DDFDocuments/19005/R/WT/DS/161-7.pdf\nhttps://docs.wto.org/dol2fe/Pages/FE_Search/DDFDocuments/19005/S/WT/DS/161-7.pdf\nhttps://docs.wto.org/dol2fe/Pages/FE_Search/DDFDocuments/7858/Q/WT/DS/161-6.pdf\nhttps://docs.wto.org/dol2fe/Pages/FE_Search/DDFDocuments/7858/R/WT/DS/161-6.pdf\nhttps://docs.wto.org/dol2fe/Pages/FE_Search/DDFDocuments/7858/S/WT/DS/161-6.pdf\nhttps://docs.wto.org/dol2fe/Pages/FE_Search/DDFDocuments/46659/Q/WT/DS/161-5.pdf\nhttps://docs.wto.org/dol2fe/Pages/FE_Search/DDFDocuments/46659/R/WT/DS/161-5.pdf\nhttps://docs.wto.org/dol2fe/Pages/FE_Search/DDFDocuments/46659/S/WT/DS/161-5.pdf\nhttps://docs.wto.org/dol2fe/Pages/FE_Search/DDFDocuments/35383/Q/WT/DS/161-4.pdf\nhttps://docs.wto.org/dol2fe/Pages/FE_Search/DDFDocuments/35383/R/WT/DS/161-4.pdf\nhttps://docs.wto.org/dol2fe/Pages/FE_Search/DDFDocuments/35383/S/WT/DS/161-4.pdf\nhttps://docs.wto.org/dol2fe/Pages/FE_Search/DDFDocuments/35365/Q/WT/DS/161-2.pdf\nhttps://docs.wto.org/dol2fe/Pages/FE_Search/DDFDocuments/35365/R/WT/DS/161-2.pdf\nhttps://docs.wto.org/dol2fe/Pages/FE_Search/DDFDocuments/35365/S/WT/DS/161-2.pdf\nhttps://docs.wto.org/dol2fe/Pages/FE_Search/DDFDocuments/35368/Q/WT/DS/161-3.pdf\nhttps://docs.wto.org/dol2fe/Pages/FE_Search/DDFDocuments/35368/R/WT/DS/161-3.pdf\nhttps://docs.wto.org/dol2fe/Pages/FE_Search/DDFDocuments/35368/S/WT/DS/161-3.pdf\nhttps://docs.wto.org/dol2fe/Pages/FE_Search/DDFDocuments/25382/Q/G/L/292.pdf\nhttps://docs.wto.org/dol2fe/Pages/FE_Search/DDFDocuments/25382/R/G/L/292.pdf\nhttps://docs.wto.org/dol2fe/Pages/FE_Search/DDFDocuments/25382/S/G/L/292.pdf\n"
     ]
    }
   ],
   "source": [
    "case_numb = 161\n",
    "urls = get_urls(161)"
   ]
  },
  {
   "cell_type": "code",
   "execution_count": null,
   "metadata": {},
   "outputs": [],
   "source": []
  },
  {
   "cell_type": "code",
   "execution_count": 9,
   "metadata": {
    "collapsed": true
   },
   "outputs": [
    {
     "name": "stdout",
     "output_type": "stream",
     "text": [
      "English version of pdfs: \nhttps://docs.wto.org/dol2fe/Pages/FE_Search/DDFDocuments/28643/Q/WT/DS/169-12.pdf\nhttps://docs.wto.org/dol2fe/Pages/FE_Search/DDFDocuments/66170/Q/WT/DS/169-11.pdf\nhttps://docs.wto.org/dol2fe/Pages/FE_Search/DDFDocuments/107599/Q/WT/DS/169-10.pdf\nhttps://docs.wto.org/dol2fe/Pages/FE_Search/DDFDocuments/12458/Q/WT/DS/169ABR.pdf\nhttps://docs.wto.org/dol2fe/Pages/FE_Search/DDFDocuments/13372/Q/WT/DS/169-9.pdf\nhttps://docs.wto.org/dol2fe/Pages/FE_Search/DDFDocuments/22203/Q/WT/DS/169-8.pdf\nhttps://docs.wto.org/dol2fe/Pages/FE_Search/DDFDocuments/110283/Q/WT/DS/161R.pdf\nhttps://docs.wto.org/dol2fe/Pages/FE_Search/DDFDocuments/19005/Q/WT/DS/161-7.pdf\nhttps://docs.wto.org/dol2fe/Pages/FE_Search/DDFDocuments/7858/Q/WT/DS/161-6.pdf\nhttps://docs.wto.org/dol2fe/Pages/FE_Search/DDFDocuments/46659/Q/WT/DS/161-5.pdf\nhttps://docs.wto.org/dol2fe/Pages/FE_Search/DDFDocuments/35383/Q/WT/DS/161-4.pdf\nhttps://docs.wto.org/dol2fe/Pages/FE_Search/DDFDocuments/35365/Q/WT/DS/161-2.pdf\nhttps://docs.wto.org/dol2fe/Pages/FE_Search/DDFDocuments/35368/Q/WT/DS/161-3.pdf\nhttps://docs.wto.org/dol2fe/Pages/FE_Search/DDFDocuments/25382/Q/G/L/292.pdf\n"
     ]
    }
   ],
   "source": [
    "eng_urls = filter_eng(urls)"
   ]
  },
  {
   "cell_type": "code",
   "execution_count": null,
   "metadata": {},
   "outputs": [],
   "source": []
  }
 ],
 "metadata": {
  "kernelspec": {
   "display_name": "Python 2",
   "language": "python",
   "name": "python2"
  },
  "language_info": {
   "codemirror_mode": {
    "name": "ipython",
    "version": 2
   },
   "file_extension": ".py",
   "mimetype": "text/x-python",
   "name": "python",
   "nbconvert_exporter": "python",
   "pygments_lexer": "ipython2",
   "version": "2.7.6"
  }
 },
 "nbformat": 4,
 "nbformat_minor": 0
}
